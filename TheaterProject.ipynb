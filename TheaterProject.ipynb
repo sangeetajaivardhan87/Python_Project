{
 "cells": [
  {
   "cell_type": "code",
   "execution_count": 1,
   "id": "a5de0aea-f530-4a11-bfe5-d08ee4d79287",
   "metadata": {},
   "outputs": [
    {
     "name": "stdout",
     "output_type": "stream",
     "text": [
      "***JAWAN MOVIE***\n"
     ]
    },
    {
     "name": "stdin",
     "output_type": "stream",
     "text": [
      "Customer name: san\n"
     ]
    },
    {
     "name": "stdout",
     "output_type": "stream",
     "text": [
      "Normal Seat Rs: 300\n",
      "Recliner Seat Rs: 500\n"
     ]
    },
    {
     "name": "stdin",
     "output_type": "stream",
     "text": [
      "Seat choice (nor or rec): nor\n",
      "Want to add Combo of Rs 100:  yes\n",
      "Number of seats please: 5\n"
     ]
    },
    {
     "name": "stdout",
     "output_type": "stream",
     "text": [
      "availabl normal 45\n",
      "******************************\n",
      "customer name: san\n",
      "Bill: 1600\n",
      "******************************\n"
     ]
    },
    {
     "name": "stdin",
     "output_type": "stream",
     "text": [
      "please confirm your choice: yes\n",
      "Customer name: eva\n"
     ]
    },
    {
     "name": "stdout",
     "output_type": "stream",
     "text": [
      "Normal Seat Rs: 300\n",
      "Recliner Seat Rs: 500\n"
     ]
    },
    {
     "name": "stdin",
     "output_type": "stream",
     "text": [
      "Seat choice (nor or rec): nor\n",
      "Want to add Combo of Rs 100:  no\n",
      "Number of seats please: 46\n"
     ]
    }
   ],
   "source": [
    "# Theater billing system.\n",
    "print(\"***JAWAN MOVIE***\")\n",
    "\n",
    "nor = 50\n",
    "rec = 10\n",
    "amount = 0\n",
    "normalP = 300\n",
    "reclinerP = 500\n",
    "while True:\n",
    "    name = input(\"Customer name:\")\n",
    "    print(\"Normal Seat Rs:\",normalP)\n",
    "    print(\"Recliner Seat Rs:\",reclinerP)\n",
    "    seatchioce = input(\"Seat choice (nor or rec):\")\n",
    "    combochoice = input(\"Want to add Combo of Rs 100: \")\n",
    "    no_of_seats= int(input(\"Number of seats please:\"))\n",
    "    if no_of_seats>nor:\n",
    "        break\n",
    "   \n",
    "    if seatchioce==\"nor\":\n",
    "        amount = normalP*no_of_seats\n",
    "        nor-= no_of_seats\n",
    "        print(\"availabl normal\", nor)\n",
    "        \n",
    "    if no_of_seats>rec:\n",
    "        break\n",
    "   \n",
    "    if seatchioce==\"rec\":\n",
    "        amount = reclinerP*no_of_seats\n",
    "        rec-= no_of_seats\n",
    "        print(\"availabl recliner seat\", rec)\n",
    "    \n",
    "    while True:\n",
    "            if seatchioce == \"nor\" and combochoice == \"yes\":\n",
    "                amount=(normalP*no_of_seats)+100\n",
    "                \n",
    "            elif seatchioce == \"nor\" and combochoice == \"no\":\n",
    "                amount = (normalP*no_of_seats)\n",
    "                \n",
    "            elif seatchioce == \"rec\" and combochoice == \"yes\":\n",
    "                amount=(reclinerP*no_of_seats)+100\n",
    "                \n",
    "            elif seatchioce == \"rec\" and combochoice == \"no\":\n",
    "                amount=(reclinerP*no_of_seats) \n",
    "                \n",
    "            else:\n",
    "                print(\"Try Again\")\n",
    "                \n",
    "            print(\"*\"*30)\n",
    "            print(\"customer name:\", name)\n",
    "            print(\"Bill:\", amount)\n",
    "            print(\"*\"*30)\n",
    "            confirm = input(\"please confirm your choice:\")\n",
    "            if confirm == \"yes\":\n",
    "                break \n",
    "\n",
    "            next = input(\"next person?\")\n",
    "            if next == \"yes\":\n",
    "                break\n",
    "                "
   ]
  },
  {
   "cell_type": "code",
   "execution_count": 1,
   "id": "45a7e994-c41c-4313-993d-be111aab6c75",
   "metadata": {},
   "outputs": [
    {
     "name": "stdout",
     "output_type": "stream",
     "text": [
      "you\n"
     ]
    }
   ],
   "source": []
  },
  {
   "cell_type": "code",
   "execution_count": null,
   "id": "be2fc2e2-0dcd-47f0-9d89-57f4f5642ff3",
   "metadata": {},
   "outputs": [],
   "source": [
    "\n"
   ]
  }
 ],
 "metadata": {
  "kernelspec": {
   "display_name": "Python 3 (ipykernel)",
   "language": "python",
   "name": "python3"
  },
  "language_info": {
   "codemirror_mode": {
    "name": "ipython",
    "version": 3
   },
   "file_extension": ".py",
   "mimetype": "text/x-python",
   "name": "python",
   "nbconvert_exporter": "python",
   "pygments_lexer": "ipython3",
   "version": "3.11.5"
  }
 },
 "nbformat": 4,
 "nbformat_minor": 5
}
